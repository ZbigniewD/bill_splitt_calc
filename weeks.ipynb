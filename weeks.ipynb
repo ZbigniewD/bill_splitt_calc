{
 "cells": [
  {
   "cell_type": "code",
   "execution_count": 2,
   "metadata": {},
   "outputs": [
    {
     "name": "stdout",
     "output_type": "stream",
     "text": [
      "You have 2288 weeks left.\n"
     ]
    }
   ],
   "source": [
    "age = input()\n",
    "\n",
    "# One year has 52 weeks\n",
    "# 90 = 90 * 52\n",
    "# 🚨 Don't change the code above 👆\n",
    "# Write your code below this line 👇\n",
    "new_age = int(age)\n",
    "weeks_age = new_age * 52\n",
    "life_span = 90 * 52\n",
    "life_left = life_span - weeks_age\n",
    "print(f\"You have {life_left} weeks left.\")"
   ]
  },
  {
   "cell_type": "code",
   "execution_count": 3,
   "metadata": {},
   "outputs": [
    {
     "name": "stdout",
     "output_type": "stream",
     "text": [
      "You have 2288 weeks left.\n"
     ]
    }
   ],
   "source": [
    "# Angela Yu resolve\n",
    "age = input()\n",
    "# Your code below this line 👇\n",
    "years = 90 - int(age)\n",
    "weeks = years * 52\n",
    "\n",
    "print(f\"You have {weeks} weeks left.\")\n"
   ]
  }
 ],
 "metadata": {
  "kernelspec": {
   "display_name": "Python 3",
   "language": "python",
   "name": "python3"
  },
  "language_info": {
   "codemirror_mode": {
    "name": "ipython",
    "version": 3
   },
   "file_extension": ".py",
   "mimetype": "text/x-python",
   "name": "python",
   "nbconvert_exporter": "python",
   "pygments_lexer": "ipython3",
   "version": "3.12.4"
  }
 },
 "nbformat": 4,
 "nbformat_minor": 2
}
