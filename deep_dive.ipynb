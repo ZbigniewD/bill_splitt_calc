{
 "cells": [
  {
   "cell_type": "code",
   "execution_count": 1,
   "metadata": {},
   "outputs": [
    {
     "ename": "TypeError",
     "evalue": "object of type 'int' has no len()",
     "output_type": "error",
     "traceback": [
      "\u001b[1;31m---------------------------------------------------------------------------\u001b[0m",
      "\u001b[1;31mTypeError\u001b[0m                                 Traceback (most recent call last)",
      "Cell \u001b[1;32mIn[1], line 1\u001b[0m\n\u001b[1;32m----> 1\u001b[0m \u001b[38;5;28mprint\u001b[39m(\u001b[38;5;28;43mlen\u001b[39;49m\u001b[43m(\u001b[49m\u001b[38;5;28;43mint\u001b[39;49m\u001b[43m(\u001b[49m\u001b[38;5;241;43m3456\u001b[39;49m\u001b[43m)\u001b[49m\u001b[43m)\u001b[49m)\n",
      "\u001b[1;31mTypeError\u001b[0m: object of type 'int' has no len()"
     ]
    }
   ],
   "source": [
    "print(len(int(3456)))"
   ]
  },
  {
   "cell_type": "code",
   "execution_count": null,
   "metadata": {},
   "outputs": [],
   "source": []
  },
  {
   "cell_type": "code",
   "execution_count": 5,
   "metadata": {},
   "outputs": [
    {
     "name": "stdout",
     "output_type": "stream",
     "text": [
      "e\n",
      "l\n",
      "o\n"
     ]
    }
   ],
   "source": [
    "#Data types\n",
    "\n",
    "#String\n",
    "\n",
    "Hello = []\n",
    "print(\"Hello\"[1])\n",
    "print(\"Hello\"[3])\n",
    "print(\"Hello\"[4])\n"
   ]
  },
  {
   "cell_type": "code",
   "execution_count": 6,
   "metadata": {},
   "outputs": [
    {
     "name": "stdout",
     "output_type": "stream",
     "text": [
      "468\n"
     ]
    }
   ],
   "source": [
    "print(int(\"123\") + int(\"345\"))"
   ]
  },
  {
   "cell_type": "code",
   "execution_count": 8,
   "metadata": {},
   "outputs": [
    {
     "name": "stdout",
     "output_type": "stream",
     "text": [
      "468\n"
     ]
    }
   ],
   "source": [
    "# Integer\n",
    "# Only numbers, no quotes\n",
    "print(123 + 345)\n"
   ]
  },
  {
   "cell_type": "code",
   "execution_count": 12,
   "metadata": {},
   "outputs": [
    {
     "name": "stdout",
     "output_type": "stream",
     "text": [
      "0.47\n"
     ]
    }
   ],
   "source": [
    "# Flat - decimal, numbers followed dot\n",
    "\n",
    "print(round((0.123 + 0.345), 2))"
   ]
  },
  {
   "cell_type": "code",
   "execution_count": 21,
   "metadata": {},
   "outputs": [
    {
     "name": "stdout",
     "output_type": "stream",
     "text": [
      "False\n",
      "True\n",
      "False\n",
      "False\n",
      "True\n"
     ]
    }
   ],
   "source": [
    "# Boolean\n",
    "a  = True\n",
    "b  = False\n",
    "\n",
    "print(a and b)\n",
    "\n",
    "print(a or b)\n",
    "\n",
    "print(not a)\n",
    "\n",
    "print(bool(0))\n",
    "\n",
    "print(not b)"
   ]
  },
  {
   "cell_type": "code",
   "execution_count": 22,
   "metadata": {},
   "outputs": [
    {
     "name": "stdout",
     "output_type": "stream",
     "text": [
      "yo\n"
     ]
    }
   ],
   "source": [
    "street_name = \"Abbey Road\"\n",
    "print(street_name[4] + street_name[7])"
   ]
  },
  {
   "cell_type": "code",
   "execution_count": 7,
   "metadata": {},
   "outputs": [
    {
     "name": "stdout",
     "output_type": "stream",
     "text": [
      "Rate us from 1 to 10\n",
      " 2\n"
     ]
    }
   ],
   "source": [
    "# len function don't like numbers\n",
    "num_chars = len(input(\"Rate us from 1 to 10.\"))\n",
    "new_num_chars = str(num_chars)\n",
    "# print(type(num_chars))\n",
    "# Type() if you not sure what type you use.\n",
    "print(f\"Rate us from 1 to 10\\n {new_num_chars}\")"
   ]
  },
  {
   "cell_type": "code",
   "execution_count": 12,
   "metadata": {},
   "outputs": [
    {
     "name": "stdout",
     "output_type": "stream",
     "text": [
      "<class 'int'>\n",
      "<class 'str'>\n",
      "<class 'float'>\n",
      "415.6\n",
      "70345.6\n"
     ]
    }
   ],
   "source": [
    "a = 408\n",
    "print(type(a))\n",
    "a = str(408)\n",
    "print(type(a))\n",
    "b = float(408.56)\n",
    "print(type(b))\n",
    "\n",
    "print((70 + float(345.6)))\n",
    "print(str(70) + str(345.6))\n"
   ]
  },
  {
   "cell_type": "code",
   "execution_count": 27,
   "metadata": {},
   "outputs": [
    {
     "name": "stdout",
     "output_type": "stream",
     "text": [
      "7\n"
     ]
    }
   ],
   "source": [
    "two_digit_number = input()\n",
    "two_digit_number = str(two_digit_number)\n",
    "a = two_digit_number[0]\n",
    "b = two_digit_number[1]\n",
    "\n",
    "print(int(a) + int(b))\n",
    "\n",
    "# Second version\n",
    "two_digit_number = input()\n",
    "\n",
    "first_digit = int(two_digit_number[0])\n",
    "second_digit = int(two_digit_number[1])\n",
    "\n",
    "# Add the two integers together\n",
    "two_digit_number = first_digit + second_digit\n",
    "\n",
    "print(two_digit_number)"
   ]
  },
  {
   "cell_type": "code",
   "execution_count": 30,
   "metadata": {},
   "outputs": [
    {
     "name": "stdout",
     "output_type": "stream",
     "text": [
      "12\n"
     ]
    }
   ],
   "source": [
    "two_digit_number = input()\n",
    "\n",
    "a = two_digit_number[0]\n",
    "b = two_digit_number[1]\n",
    "two_digit_number = int(a) + int(b)\n",
    "\n",
    "print(two_digit_number)"
   ]
  },
  {
   "cell_type": "code",
   "execution_count": 36,
   "metadata": {},
   "outputs": [
    {
     "name": "stdout",
     "output_type": "stream",
     "text": [
      "7.0\n",
      "3.0\n",
      "3\n",
      "2\n"
     ]
    }
   ],
   "source": [
    "print(3 * 3 + 3 / 3 - 3)\n",
    "print(3 * (3 + 3 / 3 - 3))\n",
    "print(round(3 * (3 + 3 )/ 3 - 3))\n",
    "print(9 // 4) # round to nearest integer"
   ]
  },
  {
   "cell_type": "code",
   "execution_count": 37,
   "metadata": {},
   "outputs": [
    {
     "name": "stdout",
     "output_type": "stream",
     "text": [
      "2.25\n"
     ]
    }
   ],
   "source": [
    "result = 34 - 16\n",
    "result /= 8\n",
    "print(result)\n",
    "# /= like number divided by number\n",
    "# same as above -=, +=, *="
   ]
  },
  {
   "cell_type": "code",
   "execution_count": 41,
   "metadata": {},
   "outputs": [
    {
     "name": "stdout",
     "output_type": "stream",
     "text": [
      " Your score is 0, your height is 1.8 and you're loosing is True\n"
     ]
    }
   ],
   "source": [
    "score = 0\n",
    "height = 1.8\n",
    "isLoosing = True\n",
    "# f-string\n",
    "print(f\" Your score is {score}, your height is {height} and you're loosing is {isLoosing}\")"
   ]
  }
 ],
 "metadata": {
  "kernelspec": {
   "display_name": "Python 3",
   "language": "python",
   "name": "python3"
  },
  "language_info": {
   "codemirror_mode": {
    "name": "ipython",
    "version": 3
   },
   "file_extension": ".py",
   "mimetype": "text/x-python",
   "name": "python",
   "nbconvert_exporter": "python",
   "pygments_lexer": "ipython3",
   "version": "3.12.4"
  }
 },
 "nbformat": 4,
 "nbformat_minor": 2
}
