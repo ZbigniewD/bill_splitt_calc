{
 "cells": [
  {
   "cell_type": "code",
   "execution_count": 23,
   "metadata": {},
   "outputs": [
    {
     "name": "stdout",
     "output_type": "stream",
     "text": [
      "Your BMI value is:\n",
      " 21\n"
     ]
    }
   ],
   "source": [
    "# BMI = weight(w) / (height**2(m**2))\n",
    "\n",
    "h = input(\"Input your height in meters ex.: 1.56\\n\")\n",
    "w = input(\"Input your weight:\\n\")\n",
    "\n",
    "weight = float(w)\n",
    "height = float(h)\n",
    "# bmi = round(w / (h**2), 2)\n",
    "bmi = int(weight / (height**2))\n",
    "print(f\"Your BMI value is:\\n {bmi}\")\n"
   ]
  },
  {
   "cell_type": "code",
   "execution_count": 22,
   "metadata": {},
   "outputs": [
    {
     "name": "stdout",
     "output_type": "stream",
     "text": [
      "32\n"
     ]
    }
   ],
   "source": [
    "print(int(56.2 / (1.75)))"
   ]
  }
 ],
 "metadata": {
  "kernelspec": {
   "display_name": "Python 3",
   "language": "python",
   "name": "python3"
  },
  "language_info": {
   "codemirror_mode": {
    "name": "ipython",
    "version": 3
   },
   "file_extension": ".py",
   "mimetype": "text/x-python",
   "name": "python",
   "nbconvert_exporter": "python",
   "pygments_lexer": "ipython3",
   "version": "3.12.4"
  }
 },
 "nbformat": 4,
 "nbformat_minor": 2
}
